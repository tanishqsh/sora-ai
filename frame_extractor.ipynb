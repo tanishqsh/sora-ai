{
 "cells": [
  {
   "cell_type": "code",
   "execution_count": 3,
   "id": "c9e154f0",
   "metadata": {},
   "outputs": [
    {
     "name": "stdout",
     "output_type": "stream",
     "text": [
      "⏳ Extracting one frame every 0.2 seconds...\n",
      "✅ Done! 6480 frames saved to C:\\My Projects\\SCAI\\extracted_frames\n"
     ]
    }
   ],
   "source": [
    "import cv2\n",
    "import os\n",
    "\n",
    "# Set paths\n",
    "video_path = r\"C:\\My Projects\\SCAI\\football_match_video.mp4\"\n",
    "output_dir = r\"C:\\My Projects\\SCAI\\extracted_frames\"\n",
    "os.makedirs(output_dir, exist_ok=True)\n",
    "\n",
    "# Load video\n",
    "cap = cv2.VideoCapture(video_path)\n",
    "fps = int(cap.get(cv2.CAP_PROP_FPS))\n",
    "frame_interval = int(fps * 0.2)  # every 0.2 seconds\n",
    "\n",
    "# Set start and end frame numbers\n",
    "start_minute = 45\n",
    "end_minute = 63\n",
    "start_frame = start_minute * 60 * fps\n",
    "end_frame = end_minute * 60 * fps\n",
    "\n",
    "cap.set(cv2.CAP_PROP_POS_FRAMES, start_frame)\n",
    "\n",
    "frame_num = start_frame\n",
    "saved = 0\n",
    "\n",
    "print(\"⏳ Extracting one frame every 0.2 seconds...\")\n",
    "\n",
    "while frame_num < end_frame:\n",
    "    cap.set(cv2.CAP_PROP_POS_FRAMES, frame_num)\n",
    "    ret, frame = cap.read()\n",
    "    if not ret:\n",
    "        break\n",
    "\n",
    "    frame_name = f\"frame_{frame_num:06}.jpg\"\n",
    "    cv2.imwrite(os.path.join(output_dir, frame_name), frame)\n",
    "    saved += 1\n",
    "    frame_num += frame_interval\n",
    "\n",
    "print(f\"✅ Done! {saved} frames saved to {output_dir}\")\n",
    "cap.release()\n"
   ]
  }
 ],
 "metadata": {
  "kernelspec": {
   "display_name": "Python 3",
   "language": "python",
   "name": "python3"
  },
  "language_info": {
   "codemirror_mode": {
    "name": "ipython",
    "version": 3
   },
   "file_extension": ".py",
   "mimetype": "text/x-python",
   "name": "python",
   "nbconvert_exporter": "python",
   "pygments_lexer": "ipython3",
   "version": "3.12.6"
  }
 },
 "nbformat": 4,
 "nbformat_minor": 5
}
